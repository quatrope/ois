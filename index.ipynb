{
 "cells": [
  {
   "cell_type": "markdown",
   "metadata": {
    "slideshow": {
     "slide_type": "slide"
    }
   },
   "source": [
    "# Usage Examples and General Considerations\n",
    "\n",
    "This notebook explores different situations in Difference Image Analysis (DIA) using the methods provided by `ois`.\n"
   ]
  },
  {
   "cell_type": "code",
   "execution_count": null,
   "metadata": {
    "slideshow": {
     "slide_type": "skip"
    }
   },
   "outputs": [],
   "source": [
    "import ois\n",
    "import numpy as np\n",
    "import sep\n",
    "import matplotlib.pyplot as plt\n",
    "%matplotlib inline\n",
    "\n",
    "np.random.seed(seed=12)"
   ]
  },
  {
   "cell_type": "code",
   "execution_count": null,
   "metadata": {},
   "outputs": [],
   "source": [
    "ois.__version__"
   ]
  },
  {
   "cell_type": "code",
   "execution_count": null,
   "metadata": {
    "slideshow": {
     "slide_type": "skip"
    }
   },
   "outputs": [],
   "source": [
    "def plot_images(img_g, ref_g):\n",
    "    fig, axes = plt.subplots(1, 3, figsize=(15, 5))\n",
    "    axes[0].imshow(img_g, cmap='gray', interpolation='none', origin='lower')\n",
    "    axes[0].axis('off')\n",
    "    axes[0].set_title(\"Science Image\")\n",
    "\n",
    "    axes[1].imshow(ref_g, cmap='gray', interpolation='none', origin='lower')\n",
    "    axes[1].axis('off')\n",
    "    axes[1].set_title(\"Reference Image\")\n",
    "\n",
    "    axes[2].imshow(img_g - ref_g, cmap='gray', interpolation='none', origin='lower')\n",
    "    axes[2].axis('off')\n",
    "    axes[2].set_title(\"Plain Difference\")\n",
    "\n",
    "    plt.tight_layout()\n",
    "    plt.show()\n",
    "    \n",
    "    \n",
    "def plot_diffs(all_diffs, all_krns, method_names):\n",
    "    fig, axes = plt.subplots(2, 3, figsize=(15, 10))\n",
    "\n",
    "    for diff, m_name, ax in zip(all_diffs, method_names, axes[0]):\n",
    "        ax.imshow(diff, cmap='gray', interpolation='none', origin='lower')\n",
    "        ax.axis('off')\n",
    "        ax.set_title(m_name)\n",
    "\n",
    "    for krn, m_name, ax in zip(all_krns, method_names, axes[1]):\n",
    "        ax.imshow(krn, interpolation='none', origin='lower')\n",
    "        ax.axis('off')\n",
    "        ax.set_title(m_name)\n",
    "\n",
    "    plt.tight_layout()\n",
    "    plt.show()"
   ]
  },
  {
   "cell_type": "markdown",
   "metadata": {
    "slideshow": {
     "slide_type": "slide"
    }
   },
   "source": [
    "-----------------------\n",
    "# Case 1:\n",
    "\n",
    "### Two identical images with Gaussian PSF's\n",
    "\n",
    "In the case where we have two identical (or very similar) images, it can be verified that:\n",
    "\n",
    "* A naive Alard-Lupton with an incorrectly tuned Gaussian can't reproduce the identity kernel and the subtraction will have characteristic rings around sources.\n",
    "* A correctly tuned Alard-Lupton performs very well.\n",
    "* Bramich (and AdaptiveBramich) can pick the correct kernel without tuning extra parameters other than the kernel side.\n",
    "\n"
   ]
  },
  {
   "cell_type": "code",
   "execution_count": null,
   "metadata": {
    "scrolled": false,
    "slideshow": {
     "slide_type": "subslide"
    }
   },
   "outputs": [],
   "source": [
    "h, w = img_shape = (200, 200)\n",
    "n_stars = 10\n",
    "pos_x = np.random.randint(10, w - 10, n_stars)\n",
    "pos_y = np.random.randint(10, h - 10, n_stars)\n",
    "fluxes = 200.0 + np.random.rand(n_stars) * 300.0\n",
    "\n",
    "img = np.zeros(img_shape)\n",
    "for x, y, f in zip(pos_x, pos_y, fluxes):\n",
    "    img[y, x] = f\n",
    "\n",
    "ref = img.copy()\n",
    "\n",
    "# Let's add the same Gaussian PSF response to both images\n",
    "from scipy.ndimage.filters import gaussian_filter\n",
    "img_g = gaussian_filter(img, sigma=1.5, mode='constant')\n",
    "ref_g = gaussian_filter(ref, sigma=1.5, mode='constant')\n",
    "\n",
    "\n",
    "# Plot the images\n",
    "plot_images(img_g, ref_g)"
   ]
  },
  {
   "cell_type": "code",
   "execution_count": null,
   "metadata": {
    "scrolled": false,
    "slideshow": {
     "slide_type": "skip"
    }
   },
   "outputs": [],
   "source": [
    "method_names = [\"Alard-Lupton\", \"Alard-Lupton\", \"Bramich\"]\n",
    "kws = [{'gausslist': [{'sx': 1.0, 'sy':1.0, 'modPolyDeg':0}]},\n",
    "       {'gausslist': [{'sx': 0.01, 'sy':0.01, 'modPolyDeg':0}]},\n",
    "       {}]\n",
    "krn_shape = (5, 5)\n",
    "# We store all the differences and kernels in the following lists\n",
    "all_diffs = []\n",
    "all_krns = []\n",
    "\n",
    "# Do for the all the methods\n",
    "for kw, m_name in zip(kws, method_names):\n",
    "    %time\n",
    "    diff, __, krn, __ = ois.optimal_system(\n",
    "        img_g, ref_g, kernelshape=krn_shape,\n",
    "        method=m_name, bkgdegree=None,\n",
    "        **kw,\n",
    "    )\n",
    "    all_diffs.append(diff)\n",
    "    all_krns.append(krn)\n",
    "\n",
    "\n",
    "# Plot the subtractions\n",
    "plot_diffs(all_diffs, all_krns, method_names)"
   ]
  },
  {
   "cell_type": "code",
   "execution_count": null,
   "metadata": {
    "scrolled": true,
    "slideshow": {
     "slide_type": "subslide"
    }
   },
   "outputs": [],
   "source": [
    "# Errors:\n",
    "for name, diff in zip(method_names, all_diffs):\n",
    "    print(\"{} L1 error: {:.2g}\".format(name, np.abs(diff).max()))"
   ]
  },
  {
   "cell_type": "code",
   "execution_count": null,
   "metadata": {
    "slideshow": {
     "slide_type": "subslide"
    }
   },
   "outputs": [],
   "source": [
    "for diff, mname in zip(all_diffs, method_names):\n",
    "    bkg = sep.Background(diff)\n",
    "    sources = sep.extract(diff, thresh=1E-3)\n",
    "    print(\"{} sources found in method {}.\".format(len(sources), mname))"
   ]
  },
  {
   "cell_type": "markdown",
   "metadata": {
    "slideshow": {
     "slide_type": "slide"
    }
   },
   "source": [
    "---------------------------\n",
    "# Case 2:\n",
    "\n",
    "### Bramich can fix small translations\n",
    "\n",
    "A naive Alard-Lupton won't fix small translations unless we introduce it explicitely in the center of the Gaussian kernel.\n",
    "\n",
    "Bramich (and AdaptiveBramich) will solve small translations automatically.\n"
   ]
  },
  {
   "cell_type": "code",
   "execution_count": null,
   "metadata": {
    "slideshow": {
     "slide_type": "subslide"
    }
   },
   "outputs": [],
   "source": [
    "h, w = img_shape = (200, 200)\n",
    "n_stars = 10\n",
    "pos_x = np.random.randint(10, w - 10, n_stars)\n",
    "pos_y = np.random.randint(10, h - 10, n_stars)\n",
    "fluxes = 200.0 + np.random.rand(n_stars) * 300.0\n",
    "\n",
    "img = np.zeros(img_shape)\n",
    "for x, y, f in zip(pos_x, pos_y, fluxes):\n",
    "    img[y, x] = f\n",
    "    \n",
    "ref = np.zeros(img_shape)\n",
    "for x, y, f in zip(pos_x, pos_y, fluxes):\n",
    "    ref[y + 1, x + 2] = f  # We add a small translation here\n",
    "\n",
    "# Let's add a Gaussian PSF response with same seeing for both images\n",
    "from scipy.ndimage.filters import gaussian_filter\n",
    "img_g = gaussian_filter(img, sigma=1.5, mode='constant')\n",
    "ref_g = gaussian_filter(ref, sigma=1.5, mode='constant')\n",
    "\n",
    "# Plot the images\n",
    "plot_images(img_g, ref_g)"
   ]
  },
  {
   "cell_type": "code",
   "execution_count": null,
   "metadata": {
    "scrolled": false,
    "slideshow": {
     "slide_type": "skip"
    }
   },
   "outputs": [],
   "source": [
    "method_names = [\"Alard-Lupton\", \"Alard-Lupton\", \"Bramich\"]\n",
    "kws = [{'gausslist': [{'sx': 1.0, 'sy':1.0, 'modPolyDeg':0}]},\n",
    "       {'gausslist': [{'sx': 0.01, 'sy':0.01, 'center': (1, 0), 'modPolyDeg':0}]},\n",
    "       {}]\n",
    "\n",
    "krn_shape = (5, 5)\n",
    "all_diffs = []\n",
    "all_krns = []\n",
    "for kw, m_name in zip(kws, method_names):\n",
    "    %time\n",
    "    diff, __, krn, __ = ois.optimal_system(\n",
    "        img_g, ref_g, kernelshape=krn_shape,\n",
    "        method=m_name,\n",
    "        bkgdegree=None,\n",
    "        **kw,\n",
    "    )\n",
    "    all_diffs.append(diff)\n",
    "    all_krns.append(krn)\n",
    "\n",
    "# Plot the subtractions\n",
    "plot_diffs(all_diffs, all_krns, method_names)"
   ]
  },
  {
   "cell_type": "code",
   "execution_count": null,
   "metadata": {
    "scrolled": true,
    "slideshow": {
     "slide_type": "subslide"
    }
   },
   "outputs": [],
   "source": [
    "# Errors:\n",
    "for name, diff in zip(method_names, all_diffs):\n",
    "    print(\"{} L1 error: {:.2g}\".format(name, np.abs(diff).max()))"
   ]
  },
  {
   "cell_type": "code",
   "execution_count": null,
   "metadata": {
    "slideshow": {
     "slide_type": "subslide"
    }
   },
   "outputs": [],
   "source": [
    "for diff, mname in zip(all_diffs, method_names):\n",
    "    bkg = sep.Background(diff)\n",
    "    sources = sep.extract(diff, thresh=1E-3)\n",
    "    print(\"{} sources found in method {}.\".format(len(sources), mname))"
   ]
  },
  {
   "cell_type": "markdown",
   "metadata": {
    "slideshow": {
     "slide_type": "slide"
    }
   },
   "source": [
    "-------------\n",
    "\n",
    "# Case 3\n",
    "\n",
    "### Different seeing\n",
    "\n",
    "The most common case is when we have images with different _seeing_.\n",
    "\n",
    "Assuming\n",
    "\n",
    "$R \\approx I \\otimes K$\n",
    "\n",
    "* The ideal convolution kernel for an image that have a Gaussian seeing PSF $\\sigma_{img}$ and a reference with     $\\sigma_{ref}$ is\n",
    "\n",
    "$\\sigma_K = \\sqrt{\\sigma_{img}^2 - \\sigma_{ref}^2}$\n",
    "\n",
    "(Assuming $ \\sigma_{img} > \\sigma_{ref} $)\n",
    "\n",
    "* If Alard-Lupton is not tuned for the correct Gaussian std-dev, it will leave behind rings at the sources positions.\n",
    "* The delta basis will pick the correct convolution kernel.\n",
    "* Make sure the dimensions of the kernel are enough to contain all the features of the expected kernel.\n"
   ]
  },
  {
   "cell_type": "code",
   "execution_count": null,
   "metadata": {
    "slideshow": {
     "slide_type": "subslide"
    }
   },
   "outputs": [],
   "source": [
    "h, w = img_shape = (200, 200)\n",
    "n_stars = 10\n",
    "pos_x = np.random.randint(10, w - 10, n_stars)\n",
    "pos_y = np.random.randint(10, h - 10, n_stars)\n",
    "fluxes = 200.0 + np.random.rand(n_stars) * 300.0\n",
    "\n",
    "img = np.zeros(img_shape)\n",
    "for x, y, f in zip(pos_x, pos_y, fluxes):\n",
    "    img[y, x] = f\n",
    "    \n",
    "ref = np.zeros(img_shape)\n",
    "for x, y, f in zip(pos_x, pos_y, fluxes):\n",
    "    ref[y, x] = f\n",
    "\n",
    "# Let's add a Gaussian PSF response with same seeing for both images\n",
    "from scipy.ndimage.filters import gaussian_filter\n",
    "img_g = gaussian_filter(img, sigma=1.7, mode='constant')\n",
    "ref_g = gaussian_filter(ref, sigma=0.8, mode='constant')\n",
    "\n",
    "# Plot the images\n",
    "plot_images(img_g, ref_g)"
   ]
  },
  {
   "cell_type": "code",
   "execution_count": null,
   "metadata": {
    "slideshow": {
     "slide_type": "skip"
    }
   },
   "outputs": [],
   "source": [
    "s_tuned = np.sqrt(1.7 ** 2 - 0.8 ** 2)\n",
    "s_tuned"
   ]
  },
  {
   "cell_type": "code",
   "execution_count": null,
   "metadata": {
    "slideshow": {
     "slide_type": "skip"
    }
   },
   "outputs": [],
   "source": [
    "method_names = [\"Alard-Lupton\", \"Alard-Lupton\", \"Bramich\"]\n",
    "kws = [{'gausslist': [{'sx': 1.0, 'sy': 1.0, 'modPolyDeg':0}]},\n",
    "       {'gausslist': [{'sx': s_tuned, 'sy':s_tuned, 'modPolyDeg':0}]},\n",
    "       {}]\n",
    "\n",
    "krn_shape = (11, 11)\n",
    "all_diffs = []\n",
    "all_krns = []\n",
    "for kw, m_name in zip(kws, method_names):\n",
    "    %time\n",
    "    diff, __, krn, __ = ois.optimal_system(\n",
    "        img_g, ref_g, kernelshape=krn_shape,\n",
    "        method=m_name,\n",
    "        bkgdegree=None,\n",
    "        **kw,\n",
    "    )\n",
    "    all_diffs.append(diff)\n",
    "    all_krns.append(krn)\n",
    "    \n",
    "# Plot the subtractions\n",
    "plot_diffs(all_diffs, all_krns, method_names)"
   ]
  },
  {
   "cell_type": "code",
   "execution_count": null,
   "metadata": {
    "slideshow": {
     "slide_type": "subslide"
    }
   },
   "outputs": [],
   "source": [
    "# Errors:\n",
    "for name, diff in zip(method_names, all_diffs):\n",
    "    print(\"{} L1 error: {:.2g}\".format(name, np.abs(diff).max()))"
   ]
  },
  {
   "cell_type": "code",
   "execution_count": null,
   "metadata": {
    "slideshow": {
     "slide_type": "subslide"
    }
   },
   "outputs": [],
   "source": [
    "for diff, mname in zip(all_diffs, method_names):\n",
    "    bkg = sep.Background(diff)\n",
    "    sources = sep.extract(diff, thresh=1E-3)\n",
    "    print(\"{} sources found in method {}.\".format(len(sources), mname))\n",
    "    \n",
    "print(\"\\nIf we raise the tolerance to 1E-2:\")\n",
    "for diff, mname in zip(all_diffs, method_names):\n",
    "    bkg = sep.Background(diff)\n",
    "    sources = sep.extract(diff, thresh=1E-2)\n",
    "    print(\"{} sources found in method {}.\".format(len(sources), mname))"
   ]
  },
  {
   "cell_type": "markdown",
   "metadata": {
    "slideshow": {
     "slide_type": "slide"
    }
   },
   "source": [
    "--------------------\n",
    "# Case 4\n",
    "\n",
    "### In the presence of a transient\n",
    "\n",
    "* The methods are unaffected with the presence of a single transient.\n",
    "* None of the methods distort the transient noticeably.\n",
    "\n"
   ]
  },
  {
   "cell_type": "code",
   "execution_count": null,
   "metadata": {
    "slideshow": {
     "slide_type": "subslide"
    }
   },
   "outputs": [],
   "source": [
    "h, w = img_shape = (200, 200)\n",
    "n_stars = 10\n",
    "pos_x = np.random.randint(10, w - 10, n_stars)\n",
    "pos_y = np.random.randint(10, h - 10, n_stars)\n",
    "fluxes = 200.0 + np.random.rand(n_stars) * 300.0\n",
    "\n",
    "img = np.zeros(img_shape)\n",
    "for x, y, f in zip(pos_x, pos_y, fluxes):\n",
    "    img[y, x] = f\n",
    "\n",
    "ref = img.copy()\n",
    "\n",
    "transient_pos = (120, 17)\n",
    "transient_flux = 350\n",
    "x, y = transient_pos\n",
    "img[y, x] = transient_flux\n",
    "\n",
    "# Let's add a Gaussian PSF response with different seeing for both images\n",
    "from scipy.ndimage.filters import gaussian_filter\n",
    "img_g = gaussian_filter(img, sigma=1.5, mode='constant')\n",
    "ref_g = gaussian_filter(ref, sigma=1.5, mode='constant')\n",
    "\n",
    "# Plot the images\n",
    "plot_images(img_g, ref_g)"
   ]
  },
  {
   "cell_type": "code",
   "execution_count": null,
   "metadata": {
    "slideshow": {
     "slide_type": "skip"
    }
   },
   "outputs": [],
   "source": [
    "method_names = [\"Alard-Lupton\", \"Alard-Lupton\", \"Bramich\"]\n",
    "kws = [{'gausslist': [{'sx': 1.0, 'sy':1.0, 'modPolyDeg':0}]},\n",
    "       {'gausslist': [{'sx': 0.01, 'sy':0.01, 'modPolyDeg':0}]},\n",
    "       {}]\n",
    "krn_shape = (5, 5)\n",
    "# We store all the differences and kernels in the following lists\n",
    "all_diffs = []\n",
    "all_krns = []\n",
    "\n",
    "# Do for the all the methods\n",
    "for kw, m_name in zip(kws, method_names):\n",
    "    %time\n",
    "    diff, __, krn, __ = ois.optimal_system(\n",
    "        img_g, ref_g, kernelshape=krn_shape,\n",
    "        method=m_name, bkgdegree=None,\n",
    "        **kw,\n",
    "    )\n",
    "    all_diffs.append(diff)\n",
    "    all_krns.append(krn)\n",
    "\n",
    "# Plot the subtractions\n",
    "plot_diffs(all_diffs, all_krns, method_names)"
   ]
  },
  {
   "cell_type": "code",
   "execution_count": null,
   "metadata": {
    "slideshow": {
     "slide_type": "subslide"
    }
   },
   "outputs": [],
   "source": [
    "for diff, mname in zip(all_diffs, method_names):\n",
    "    bkg = sep.Background(diff)\n",
    "    sources = sep.extract(diff, thresh=1E-3)\n",
    "    print(\"{} sources found in method {}.\".format(len(sources), mname))"
   ]
  },
  {
   "cell_type": "markdown",
   "metadata": {},
   "source": [
    "----------------------\n",
    "# Case 5:\n",
    "\n",
    "### AdaptiveBramich can fix small rotations\n",
    "\n",
    "Using a quadratic variation across the image field, Adaptive Bramich can fix small rotations."
   ]
  },
  {
   "cell_type": "code",
   "execution_count": null,
   "metadata": {},
   "outputs": [],
   "source": [
    "h, w = img_shape = (200, 200)\n",
    "n_stars = 10\n",
    "pos_x = np.random.randint(10, w - 10, n_stars)\n",
    "pos_y = np.random.randint(10, h - 10, n_stars)\n",
    "fluxes = 200.0 + np.random.rand(n_stars) * 300.0\n",
    "\n",
    "img = np.zeros(img_shape)\n",
    "for x, y, f in zip(pos_x, pos_y, fluxes):\n",
    "    img[y, x] = f\n",
    "\n",
    "from scipy.ndimage.filters import gaussian_filter\n",
    "img_g = gaussian_filter(img, sigma=1.5, mode='constant')\n",
    "\n",
    "from scipy.ndimage import rotate\n",
    "\n",
    "ref = rotate(img_g, 0.05)\n",
    "hr, wr = ref.shape\n",
    "ref_g = ref[(hr - h) // 2 + (hr - h) % 2: -(hr - h) // 2 or None,\n",
    "            (wr - w) // 2 + (wr - w) % 2: -(wr - w) // 2 or None]\n",
    "\n",
    "# Plot the images\n",
    "plot_images(img_g, ref_g)"
   ]
  },
  {
   "cell_type": "code",
   "execution_count": null,
   "metadata": {},
   "outputs": [],
   "source": [
    "method_names = [\"Alard-Lupton\", \"Bramich\", \"AdaptiveBramich\"]\n",
    "kws = [{'gausslist': [{'sx': 1.0, 'sy':1.0, 'modPolyDeg':0}]},\n",
    "       {}, {'poly_degree': 2}]\n",
    "krn_shape = (5, 5)\n",
    "# We store all the differences and kernels in the following lists\n",
    "all_diffs = []\n",
    "all_krns = []\n",
    "\n",
    "# Do for the all the methods\n",
    "for kw, m_name in zip(kws, method_names):\n",
    "    %time\n",
    "    diff, __, krn, __ = ois.optimal_system(\n",
    "        img_g, ref_g, kernelshape=krn_shape,\n",
    "        method=m_name, bkgdegree=None,\n",
    "        **kw,\n",
    "    )\n",
    "    all_diffs.append(diff)\n",
    "    all_krns.append(krn)\n",
    "all_krns[2] = np.zeros(krn_shape)  # An adaptive kernel is a 4D object, so it can't be graphed\n",
    "\n",
    "# Plot the subtractions\n",
    "plot_diffs(all_diffs, all_krns, method_names)"
   ]
  },
  {
   "cell_type": "code",
   "execution_count": null,
   "metadata": {},
   "outputs": [],
   "source": [
    "# Errors:\n",
    "for name, diff in zip(method_names, all_diffs):\n",
    "    print(\"{} L1 error: {:.2g}\".format(name, np.abs(diff).max()))"
   ]
  },
  {
   "cell_type": "code",
   "execution_count": null,
   "metadata": {},
   "outputs": [],
   "source": [
    "for diff, mname in zip(all_diffs, method_names):\n",
    "    bkg = sep.Background(diff)\n",
    "    sources = sep.extract(diff, thresh=1E-2)\n",
    "    print(\"{} sources found in method {}.\".format(len(sources), mname))"
   ]
  },
  {
   "cell_type": "markdown",
   "metadata": {
    "slideshow": {
     "slide_type": "slide"
    }
   },
   "source": [
    "--------------\n",
    "\n",
    "# Case 6:\n",
    "\n",
    "### Adding even a little bit of noise can spoil the subtraction considerably\n",
    "\n",
    "This is like Case 1 but with noise added.\n",
    "\n",
    "* Alard-Lupton seems to be more robust against added noise."
   ]
  },
  {
   "cell_type": "code",
   "execution_count": null,
   "metadata": {
    "slideshow": {
     "slide_type": "subslide"
    }
   },
   "outputs": [],
   "source": [
    "h, w = img_shape = (200, 200)\n",
    "n_stars = 10\n",
    "pos_x = np.random.randint(10, w - 10, n_stars)\n",
    "pos_y = np.random.randint(10, h - 10, n_stars)\n",
    "fluxes = 200.0 + np.random.rand(n_stars) * 300.0\n",
    "\n",
    "img = np.zeros(img_shape)\n",
    "for x, y, f in zip(pos_x, pos_y, fluxes):\n",
    "    img[y, x] = f\n",
    "\n",
    "ref = img.copy()\n",
    "\n",
    "# Let's add a Gaussian PSF response with different seeing for both images\n",
    "from scipy.ndimage.filters import gaussian_filter\n",
    "img_g = gaussian_filter(img, sigma=1.5, mode='constant')\n",
    "ref_g = gaussian_filter(ref, sigma=1.5, mode='constant')\n",
    "\n",
    "# Let's add some white noise:\n",
    "noise_dc = 5.0\n",
    "noise_std = np.sqrt(noise_dc)\n",
    "img_g += np.random.normal(loc=noise_dc, scale=noise_std, size=img.shape)\n",
    "ref_g += np.random.normal(loc=noise_dc, scale=noise_std, size=ref.shape)\n",
    "\n",
    "# Plot the images\n",
    "plot_images(img_g, ref_g)"
   ]
  },
  {
   "cell_type": "code",
   "execution_count": null,
   "metadata": {
    "slideshow": {
     "slide_type": "skip"
    }
   },
   "outputs": [],
   "source": [
    "method_names = [\"Alard-Lupton\", \"Alard-Lupton\", \"Bramich\"]\n",
    "kws = [{'gausslist': [{'sx': 1.0, 'sy':1.0, 'modPolyDeg':0}]},\n",
    "       {'gausslist': [{'sx': 0.01, 'sy':0.01, 'modPolyDeg':0}]},\n",
    "       {}]\n",
    "krn_shape = (5, 5)\n",
    "# We store all the differences and kernels in the following lists\n",
    "all_diffs = []\n",
    "all_krns = []\n",
    "\n",
    "# Do for the all the methods\n",
    "for kw, m_name in zip(kws, method_names):\n",
    "    %time\n",
    "    diff, __, krn, __ = ois.optimal_system(\n",
    "        img_g, ref_g, kernelshape=krn_shape,\n",
    "        method=m_name, bkgdegree=None,\n",
    "        **kw,\n",
    "    )\n",
    "    all_diffs.append(diff)\n",
    "    all_krns.append(krn)\n",
    "    \n",
    "# Plot the subtractions\n",
    "plot_diffs(all_diffs, all_krns, method_names)"
   ]
  },
  {
   "cell_type": "code",
   "execution_count": null,
   "metadata": {
    "slideshow": {
     "slide_type": "subslide"
    }
   },
   "outputs": [],
   "source": [
    "# Errors:\n",
    "for name, diff in zip(method_names, all_diffs):\n",
    "    print(\"{} L1 error: {:.2g}\".format(name, np.abs(diff).max()))"
   ]
  },
  {
   "cell_type": "code",
   "execution_count": null,
   "metadata": {
    "slideshow": {
     "slide_type": "subslide"
    }
   },
   "outputs": [],
   "source": [
    "for diff, mname in zip(all_diffs, method_names):\n",
    "    bkg = sep.Background(diff)\n",
    "    sources = sep.extract(diff - bkg.back(), thresh=2.0 * bkg.globalrms)\n",
    "    print(\"{} sources found in method {}.\".format(len(sources), mname))"
   ]
  }
 ],
 "metadata": {
  "kernelspec": {
   "display_name": "Python 3",
   "language": "python",
   "name": "python3"
  },
  "language_info": {
   "codemirror_mode": {
    "name": "ipython",
    "version": 3
   },
   "file_extension": ".py",
   "mimetype": "text/x-python",
   "name": "python",
   "nbconvert_exporter": "python",
   "pygments_lexer": "ipython3",
   "version": "3.7.3"
  }
 },
 "nbformat": 4,
 "nbformat_minor": 2
}
